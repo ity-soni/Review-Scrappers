{
 "cells": [
  {
   "cell_type": "markdown",
   "id": "b5eb2eaa-1bdd-457f-939e-09f7627feb3e",
   "metadata": {},
   "source": [
    "## Google Maps Review Scrapper\n",
    "\n",
    "#### This script is used to scrape the latest reviews from Google Maps for Sofi Stadium and store them in a CSV file. The collected data will later be used for performing sentiment analysis. This script uses web scraping techniques to gather data from Google Maps and store the results in a convenient and accessible format."
   ]
  },
  {
   "cell_type": "code",
   "execution_count": 266,
   "id": "20d83d14-b9eb-4e2a-87a8-8854ef474a4a",
   "metadata": {},
   "outputs": [],
   "source": [
    "from selenium import webdriver\n",
    "from selenium.webdriver.common.keys import Keys\n",
    "import pandas as pd\n",
    "from selenium.webdriver.chrome.options import Options\n",
    "from bs4 import BeautifulSoup"
   ]
  },
  {
   "cell_type": "code",
   "execution_count": null,
   "id": "a4efd108-cc2a-4f00-a6c6-b586548dedc9",
   "metadata": {},
   "outputs": [],
   "source": [
    "options = Options()\n",
    "options.add_argument(\"--lang=en\")\n",
    "driver = webdriver.Chrome(chrome_options=options, executable_path='/Users/itysoni/Downloads/chromedriver_mac_arm64/chromedriver')"
   ]
  },
  {
   "cell_type": "code",
   "execution_count": 257,
   "id": "fe87f3d3-a423-4c46-9342-2ff523b4f71b",
   "metadata": {},
   "outputs": [],
   "source": [
    "url='https://google.com/maps/place/SoFi+Stadium/@33.9534695,-118.3412283,17z/data=!3m1!5s0x80c2b6509245d085:0xe9186e84d74540d!4m7!3m6!1s0x80c2b786cbfb8f4f:0x5fb99cb7249e4170!8m2!3d33.9534651!4d-118.3390396!9m1!1b1'\n",
    "driver.get(url)"
   ]
  },
  {
   "cell_type": "code",
   "execution_count": 268,
   "id": "7f2cf201-34a1-4d1b-9d10-47fa3d07887c",
   "metadata": {},
   "outputs": [
    {
     "ename": "TimeoutException",
     "evalue": "Message: timeout: Timed out receiving message from renderer: 600.000\n  (Session info: chrome=109.0.5414.119)\nStacktrace:\n0   chromedriver                        0x000000010487f0fc chromedriver + 4223228\n1   chromedriver                        0x0000000104807284 chromedriver + 3732100\n2   chromedriver                        0x00000001044bb5c8 chromedriver + 275912\n3   chromedriver                        0x00000001044a5d14 chromedriver + 187668\n4   chromedriver                        0x00000001044a5a6c chromedriver + 186988\n5   chromedriver                        0x00000001044a4674 chromedriver + 181876\n6   chromedriver                        0x00000001044a49b0 chromedriver + 182704\n7   chromedriver                        0x00000001044b34b4 chromedriver + 242868\n8   chromedriver                        0x00000001044a3474 chromedriver + 177268\n9   chromedriver                        0x00000001044a5704 chromedriver + 186116\n10  chromedriver                        0x00000001044a4674 chromedriver + 181876\n11  chromedriver                        0x00000001044a49b0 chromedriver + 182704\n12  chromedriver                        0x00000001044b0108 chromedriver + 229640\n13  chromedriver                        0x00000001044a3474 chromedriver + 177268\n14  chromedriver                        0x00000001044a5704 chromedriver + 186116\n15  chromedriver                        0x00000001044a4674 chromedriver + 181876\n16  chromedriver                        0x00000001044a49b0 chromedriver + 182704\n17  chromedriver                        0x00000001044abe84 chromedriver + 212612\n18  chromedriver                        0x00000001044a3474 chromedriver + 177268\n19  chromedriver                        0x00000001044a5704 chromedriver + 186116\n20  chromedriver                        0x00000001044a4674 chromedriver + 181876\n21  chromedriver                        0x00000001044a49b0 chromedriver + 182704\n22  chromedriver                        0x000000010449b6b4 chromedriver + 145076\n23  chromedriver                        0x00000001044a3474 chromedriver + 177268\n24  chromedriver                        0x00000001044a2a68 chromedriver + 174696\n25  chromedriver                        0x00000001044a2b4c chromedriver + 174924\n26  chromedriver                        0x00000001044a2e4c chromedriver + 175692\n27  chromedriver                        0x000000010452eb64 chromedriver + 748388\n28  chromedriver                        0x00000001044e9748 chromedriver + 464712\n29  chromedriver                        0x00000001044ea7f0 chromedriver + 468976\n30  chromedriver                        0x000000010484fe08 chromedriver + 4029960\n31  chromedriver                        0x0000000104853698 chromedriver + 4044440\n32  chromedriver                        0x0000000104853cc0 chromedriver + 4046016\n33  chromedriver                        0x000000010485a4c4 chromedriver + 4072644\n34  chromedriver                        0x000000010485436c chromedriver + 4047724\n35  chromedriver                        0x000000010482cbd8 chromedriver + 3886040\n36  chromedriver                        0x0000000104870efc chromedriver + 4165372\n37  chromedriver                        0x0000000104871050 chromedriver + 4165712\n38  chromedriver                        0x0000000104885e20 chromedriver + 4251168\n39  libsystem_pthread.dylib             0x000000019e7c606c _pthread_start + 148\n40  libsystem_pthread.dylib             0x000000019e7c0e2c thread_start + 8\n",
     "output_type": "error",
     "traceback": [
      "\u001b[0;31m---------------------------------------------------------------------------\u001b[0m",
      "\u001b[0;31mTimeoutException\u001b[0m                          Traceback (most recent call last)",
      "\u001b[0;32m/var/folders/qd/k5jr26ss2wdf84q7ktnkgshc0000gn/T/ipykernel_2738/448153841.py\u001b[0m in \u001b[0;36m<module>\u001b[0;34m\u001b[0m\n\u001b[1;32m      1\u001b[0m \u001b[0;31m### This works but need to scroll manually ###\u001b[0m\u001b[0;34m\u001b[0m\u001b[0;34m\u001b[0m\u001b[0m\n\u001b[0;32m----> 2\u001b[0;31m \u001b[0mscrollable_div\u001b[0m \u001b[0;34m=\u001b[0m \u001b[0mdriver\u001b[0m\u001b[0;34m.\u001b[0m\u001b[0mfind_elements\u001b[0m\u001b[0;34m(\u001b[0m\u001b[0mBy\u001b[0m\u001b[0;34m.\u001b[0m\u001b[0mCSS_SELECTOR\u001b[0m\u001b[0;34m,\u001b[0m\u001b[0;34m'div.m6QErb.DxyBCb.kA9KIf.dS8AEf'\u001b[0m\u001b[0;34m)\u001b[0m\u001b[0;34m\u001b[0m\u001b[0;34m\u001b[0m\u001b[0m\n\u001b[0m\u001b[1;32m      3\u001b[0m \u001b[0mdriver\u001b[0m\u001b[0;34m.\u001b[0m\u001b[0mexecute_script\u001b[0m\u001b[0;34m(\u001b[0m\u001b[0;34m'arguments.scrollTop= arguments.scrollHeight'\u001b[0m\u001b[0;34m,\u001b[0m \u001b[0mscrollable_div\u001b[0m\u001b[0;34m[\u001b[0m\u001b[0;36m0\u001b[0m\u001b[0;34m]\u001b[0m\u001b[0;34m)\u001b[0m\u001b[0;34m\u001b[0m\u001b[0;34m\u001b[0m\u001b[0m\n\u001b[1;32m      4\u001b[0m \u001b[0mscrollable_div\u001b[0m\u001b[0;34m[\u001b[0m\u001b[0;36m0\u001b[0m\u001b[0;34m]\u001b[0m\u001b[0;34m\u001b[0m\u001b[0;34m\u001b[0m\u001b[0m\n\u001b[1;32m      5\u001b[0m \u001b[0mresponse\u001b[0m \u001b[0;34m=\u001b[0m \u001b[0mBeautifulSoup\u001b[0m\u001b[0;34m(\u001b[0m\u001b[0mdriver\u001b[0m\u001b[0;34m.\u001b[0m\u001b[0mpage_source\u001b[0m\u001b[0;34m,\u001b[0m \u001b[0;34m'html.parser'\u001b[0m\u001b[0;34m)\u001b[0m\u001b[0;34m\u001b[0m\u001b[0;34m\u001b[0m\u001b[0m\n",
      "\u001b[0;32m~/opt/anaconda3/lib/python3.9/site-packages/selenium/webdriver/remote/webdriver.py\u001b[0m in \u001b[0;36mfind_elements\u001b[0;34m(self, by, value)\u001b[0m\n\u001b[1;32m    858\u001b[0m         \u001b[0;31m# Return empty list if driver returns null\u001b[0m\u001b[0;34m\u001b[0m\u001b[0;34m\u001b[0m\u001b[0m\n\u001b[1;32m    859\u001b[0m         \u001b[0;31m# See https://github.com/SeleniumHQ/selenium/issues/4555\u001b[0m\u001b[0;34m\u001b[0m\u001b[0;34m\u001b[0m\u001b[0m\n\u001b[0;32m--> 860\u001b[0;31m         \u001b[0;32mreturn\u001b[0m \u001b[0mself\u001b[0m\u001b[0;34m.\u001b[0m\u001b[0mexecute\u001b[0m\u001b[0;34m(\u001b[0m\u001b[0mCommand\u001b[0m\u001b[0;34m.\u001b[0m\u001b[0mFIND_ELEMENTS\u001b[0m\u001b[0;34m,\u001b[0m \u001b[0;34m{\u001b[0m\u001b[0;34m\"using\"\u001b[0m\u001b[0;34m:\u001b[0m \u001b[0mby\u001b[0m\u001b[0;34m,\u001b[0m \u001b[0;34m\"value\"\u001b[0m\u001b[0;34m:\u001b[0m \u001b[0mvalue\u001b[0m\u001b[0;34m}\u001b[0m\u001b[0;34m)\u001b[0m\u001b[0;34m[\u001b[0m\u001b[0;34m\"value\"\u001b[0m\u001b[0;34m]\u001b[0m \u001b[0;32mor\u001b[0m \u001b[0;34m[\u001b[0m\u001b[0;34m]\u001b[0m\u001b[0;34m\u001b[0m\u001b[0;34m\u001b[0m\u001b[0m\n\u001b[0m\u001b[1;32m    861\u001b[0m \u001b[0;34m\u001b[0m\u001b[0m\n\u001b[1;32m    862\u001b[0m     \u001b[0;34m@\u001b[0m\u001b[0mproperty\u001b[0m\u001b[0;34m\u001b[0m\u001b[0;34m\u001b[0m\u001b[0m\n",
      "\u001b[0;32m~/opt/anaconda3/lib/python3.9/site-packages/selenium/webdriver/remote/webdriver.py\u001b[0m in \u001b[0;36mexecute\u001b[0;34m(self, driver_command, params)\u001b[0m\n\u001b[1;32m    438\u001b[0m         \u001b[0mresponse\u001b[0m \u001b[0;34m=\u001b[0m \u001b[0mself\u001b[0m\u001b[0;34m.\u001b[0m\u001b[0mcommand_executor\u001b[0m\u001b[0;34m.\u001b[0m\u001b[0mexecute\u001b[0m\u001b[0;34m(\u001b[0m\u001b[0mdriver_command\u001b[0m\u001b[0;34m,\u001b[0m \u001b[0mparams\u001b[0m\u001b[0;34m)\u001b[0m\u001b[0;34m\u001b[0m\u001b[0;34m\u001b[0m\u001b[0m\n\u001b[1;32m    439\u001b[0m         \u001b[0;32mif\u001b[0m \u001b[0mresponse\u001b[0m\u001b[0;34m:\u001b[0m\u001b[0;34m\u001b[0m\u001b[0;34m\u001b[0m\u001b[0m\n\u001b[0;32m--> 440\u001b[0;31m             \u001b[0mself\u001b[0m\u001b[0;34m.\u001b[0m\u001b[0merror_handler\u001b[0m\u001b[0;34m.\u001b[0m\u001b[0mcheck_response\u001b[0m\u001b[0;34m(\u001b[0m\u001b[0mresponse\u001b[0m\u001b[0;34m)\u001b[0m\u001b[0;34m\u001b[0m\u001b[0;34m\u001b[0m\u001b[0m\n\u001b[0m\u001b[1;32m    441\u001b[0m             \u001b[0mresponse\u001b[0m\u001b[0;34m[\u001b[0m\u001b[0;34m\"value\"\u001b[0m\u001b[0;34m]\u001b[0m \u001b[0;34m=\u001b[0m \u001b[0mself\u001b[0m\u001b[0;34m.\u001b[0m\u001b[0m_unwrap_value\u001b[0m\u001b[0;34m(\u001b[0m\u001b[0mresponse\u001b[0m\u001b[0;34m.\u001b[0m\u001b[0mget\u001b[0m\u001b[0;34m(\u001b[0m\u001b[0;34m\"value\"\u001b[0m\u001b[0;34m,\u001b[0m \u001b[0;32mNone\u001b[0m\u001b[0;34m)\u001b[0m\u001b[0;34m)\u001b[0m\u001b[0;34m\u001b[0m\u001b[0;34m\u001b[0m\u001b[0m\n\u001b[1;32m    442\u001b[0m             \u001b[0;32mreturn\u001b[0m \u001b[0mresponse\u001b[0m\u001b[0;34m\u001b[0m\u001b[0;34m\u001b[0m\u001b[0m\n",
      "\u001b[0;32m~/opt/anaconda3/lib/python3.9/site-packages/selenium/webdriver/remote/errorhandler.py\u001b[0m in \u001b[0;36mcheck_response\u001b[0;34m(self, response)\u001b[0m\n\u001b[1;32m    243\u001b[0m                 \u001b[0malert_text\u001b[0m \u001b[0;34m=\u001b[0m \u001b[0mvalue\u001b[0m\u001b[0;34m[\u001b[0m\u001b[0;34m\"alert\"\u001b[0m\u001b[0;34m]\u001b[0m\u001b[0;34m.\u001b[0m\u001b[0mget\u001b[0m\u001b[0;34m(\u001b[0m\u001b[0;34m\"text\"\u001b[0m\u001b[0;34m)\u001b[0m\u001b[0;34m\u001b[0m\u001b[0;34m\u001b[0m\u001b[0m\n\u001b[1;32m    244\u001b[0m             \u001b[0;32mraise\u001b[0m \u001b[0mexception_class\u001b[0m\u001b[0;34m(\u001b[0m\u001b[0mmessage\u001b[0m\u001b[0;34m,\u001b[0m \u001b[0mscreen\u001b[0m\u001b[0;34m,\u001b[0m \u001b[0mstacktrace\u001b[0m\u001b[0;34m,\u001b[0m \u001b[0malert_text\u001b[0m\u001b[0;34m)\u001b[0m  \u001b[0;31m# type: ignore[call-arg]  # mypy is not smart enough here\u001b[0m\u001b[0;34m\u001b[0m\u001b[0;34m\u001b[0m\u001b[0m\n\u001b[0;32m--> 245\u001b[0;31m         \u001b[0;32mraise\u001b[0m \u001b[0mexception_class\u001b[0m\u001b[0;34m(\u001b[0m\u001b[0mmessage\u001b[0m\u001b[0;34m,\u001b[0m \u001b[0mscreen\u001b[0m\u001b[0;34m,\u001b[0m \u001b[0mstacktrace\u001b[0m\u001b[0;34m)\u001b[0m\u001b[0;34m\u001b[0m\u001b[0;34m\u001b[0m\u001b[0m\n\u001b[0m",
      "\u001b[0;31mTimeoutException\u001b[0m: Message: timeout: Timed out receiving message from renderer: 600.000\n  (Session info: chrome=109.0.5414.119)\nStacktrace:\n0   chromedriver                        0x000000010487f0fc chromedriver + 4223228\n1   chromedriver                        0x0000000104807284 chromedriver + 3732100\n2   chromedriver                        0x00000001044bb5c8 chromedriver + 275912\n3   chromedriver                        0x00000001044a5d14 chromedriver + 187668\n4   chromedriver                        0x00000001044a5a6c chromedriver + 186988\n5   chromedriver                        0x00000001044a4674 chromedriver + 181876\n6   chromedriver                        0x00000001044a49b0 chromedriver + 182704\n7   chromedriver                        0x00000001044b34b4 chromedriver + 242868\n8   chromedriver                        0x00000001044a3474 chromedriver + 177268\n9   chromedriver                        0x00000001044a5704 chromedriver + 186116\n10  chromedriver                        0x00000001044a4674 chromedriver + 181876\n11  chromedriver                        0x00000001044a49b0 chromedriver + 182704\n12  chromedriver                        0x00000001044b0108 chromedriver + 229640\n13  chromedriver                        0x00000001044a3474 chromedriver + 177268\n14  chromedriver                        0x00000001044a5704 chromedriver + 186116\n15  chromedriver                        0x00000001044a4674 chromedriver + 181876\n16  chromedriver                        0x00000001044a49b0 chromedriver + 182704\n17  chromedriver                        0x00000001044abe84 chromedriver + 212612\n18  chromedriver                        0x00000001044a3474 chromedriver + 177268\n19  chromedriver                        0x00000001044a5704 chromedriver + 186116\n20  chromedriver                        0x00000001044a4674 chromedriver + 181876\n21  chromedriver                        0x00000001044a49b0 chromedriver + 182704\n22  chromedriver                        0x000000010449b6b4 chromedriver + 145076\n23  chromedriver                        0x00000001044a3474 chromedriver + 177268\n24  chromedriver                        0x00000001044a2a68 chromedriver + 174696\n25  chromedriver                        0x00000001044a2b4c chromedriver + 174924\n26  chromedriver                        0x00000001044a2e4c chromedriver + 175692\n27  chromedriver                        0x000000010452eb64 chromedriver + 748388\n28  chromedriver                        0x00000001044e9748 chromedriver + 464712\n29  chromedriver                        0x00000001044ea7f0 chromedriver + 468976\n30  chromedriver                        0x000000010484fe08 chromedriver + 4029960\n31  chromedriver                        0x0000000104853698 chromedriver + 4044440\n32  chromedriver                        0x0000000104853cc0 chromedriver + 4046016\n33  chromedriver                        0x000000010485a4c4 chromedriver + 4072644\n34  chromedriver                        0x000000010485436c chromedriver + 4047724\n35  chromedriver                        0x000000010482cbd8 chromedriver + 3886040\n36  chromedriver                        0x0000000104870efc chromedriver + 4165372\n37  chromedriver                        0x0000000104871050 chromedriver + 4165712\n38  chromedriver                        0x0000000104885e20 chromedriver + 4251168\n39  libsystem_pthread.dylib             0x000000019e7c606c _pthread_start + 148\n40  libsystem_pthread.dylib             0x000000019e7c0e2c thread_start + 8\n"
     ]
    }
   ],
   "source": [
    "### This works but need to scroll manually ###\n",
    "scrollable_div = driver.find_elements(By.CSS_SELECTOR,'div.m6QErb.DxyBCb.kA9KIf.dS8AEf')\n",
    "for i in range(300)\n",
    "    driver.execute_script('arguments.scrollTop= arguments.scrollHeight', scrollable_div[0])\n",
    "\n",
    "response = BeautifulSoup(driver.page_source, 'html.parser')\n",
    "rlist = response.find_all('div', class_='jftiEf fontBodyMedium')\n",
    "c=0\n",
    "rating=[]\n",
    "review=[]\n",
    "for r in rlist:\n",
    "    c+=1\n",
    "    rating.append(r.find('span', class_='kvMYJc')['aria-label'])\n",
    "    review.append(r.find('span', class_='wiI7pd').text)\n"
   ]
  },
  {
   "cell_type": "code",
   "execution_count": null,
   "id": "e8cae625-694c-47d5-bdc0-c17c3c1ca20b",
   "metadata": {},
   "outputs": [],
   "source": [
    "google_reviews=pd.DataFrame({'rating':rating,'review':review})\n",
    "google_reviews.to_csv('google_reviews.csv', index=False)"
   ]
  },
  {
   "cell_type": "code",
   "execution_count": null,
   "id": "befbd32b-bd1c-4576-ae44-f6e968a235b4",
   "metadata": {},
   "outputs": [],
   "source": []
  }
 ],
 "metadata": {
  "kernelspec": {
   "display_name": "Python 3 (ipykernel)",
   "language": "python",
   "name": "python3"
  },
  "language_info": {
   "codemirror_mode": {
    "name": "ipython",
    "version": 3
   },
   "file_extension": ".py",
   "mimetype": "text/x-python",
   "name": "python",
   "nbconvert_exporter": "python",
   "pygments_lexer": "ipython3",
   "version": "3.9.13"
  }
 },
 "nbformat": 4,
 "nbformat_minor": 5
}
