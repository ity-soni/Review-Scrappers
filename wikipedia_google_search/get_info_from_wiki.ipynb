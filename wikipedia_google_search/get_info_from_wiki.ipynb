{
 "cells": [
  {
   "cell_type": "markdown",
   "id": "76c1fdcb-cd63-4733-bf6e-5ec0d79ece27",
   "metadata": {},
   "source": [
    "### Information Retriever from Wikipedia ###\n",
    "This code is used to retrieve information from Wikipedia for any search query entered by the user. The code first uses the Google Search API to find relevant Wikipedia pages for the user's query, and then uses the Wikipedia API to retrieve additional information from those pages.\n",
    "\n",
    "The code starts by importing the necessary libraries, including the requests library for making HTTP requests and the Google Search API client library for querying Google. Next, the user can enter a search query in the function as shown below:<br><br>\n",
    "    `get_wiki_info('guns and roses')`\n",
    "\n",
    "The entered query is then used as the basis for a Google search. The code uses the Google Search API to retrieve the top results for the query and filters them to only include Wikipedia pages. Once the relevant Wikipedia pages have been identified, the code uses the Wikipedia API to retrieve information from those pages, such as the title, summary, and full URL. The code then passes this information to the Wikipedia API and extracts the information needed, which is then displayed to the user.\n",
    "\n",
    "It's important to note that the accuracy of the information returned by the code is dependent on both the information available on Wikipedia and the relevance of the Google search results for the user's query. Additionally, the information returned by the code may not always be up-to-date or completely accurate, and it is only a small portion of the information available on Wikipedia."
   ]
  },
  {
   "cell_type": "code",
   "execution_count": null,
   "id": "ebcccda1-0dac-40a7-9dfe-30944b4bca7c",
   "metadata": {},
   "outputs": [],
   "source": [
    "# !conda install -c conda-forge requests-html"
   ]
  },
  {
   "cell_type": "code",
   "execution_count": 78,
   "id": "7717a1d3-6253-4085-aacd-9b98237a7588",
   "metadata": {},
   "outputs": [],
   "source": [
    "# !conda install -c conda-forge wikipedia"
   ]
  },
  {
   "cell_type": "code",
   "execution_count": 73,
   "id": "9c976136-ae3b-4857-8490-008c128d3fd0",
   "metadata": {},
   "outputs": [],
   "source": [
    "import requests\n",
    "import urllib\n",
    "import pandas as pd\n",
    "from requests_html import HTML\n",
    "from requests_html import HTMLSession\n",
    "import wikipedia"
   ]
  },
  {
   "cell_type": "code",
   "execution_count": 79,
   "id": "5c622587-8adb-4929-ba98-6f4baf848a6a",
   "metadata": {},
   "outputs": [],
   "source": [
    "### Get resutls from google query\n",
    "## This function gives the url source code\n",
    "def get_source(url):\n",
    "    \"\"\"\n",
    "    Return the source code for the provided URL. \n",
    "\n",
    "    Args: \n",
    "        url (string): URL of the page to scrape.\n",
    "\n",
    "    Returns:\n",
    "        response (object): HTTP response object from requests_html. \n",
    "    \"\"\"\n",
    "\n",
    "    try:\n",
    "        session = HTMLSession()\n",
    "        response = session.get(url)\n",
    "        return response\n",
    "\n",
    "    except requests.exceptions.RequestException as e:\n",
    "        print(e)\n",
    "\n",
    "\n",
    "## This gives the response text instead of the links\n",
    "def get_results(query):\n",
    "    \n",
    "    query = urllib.parse.quote_plus(query)\n",
    "    response = get_source(\"https://www.google.co.uk/search?q=\" + query)\n",
    "    \n",
    "    return response\n",
    "\n",
    "\n",
    "## This function parses response from google search query and gives the links, text and title back\n",
    "def parse_results(response):\n",
    "    \n",
    "    css_identifier_result = \".tF2Cxc\"\n",
    "    css_identifier_title = \"h3\"\n",
    "    css_identifier_link = \".yuRUbf a\"\n",
    "    css_identifier_text = \".VwiC3b\"\n",
    "    \n",
    "    results = response.html.find(css_identifier_result)\n",
    "\n",
    "    output = []\n",
    "    \n",
    "    for result in results:\n",
    "        item = {\n",
    "            'title': result.find(css_identifier_title, first=True).text,\n",
    "            'link': result.find(css_identifier_link, first=True).attrs['href'],\n",
    "            'text': result.find(css_identifier_text, first=True).text\n",
    "        }\n",
    "        \n",
    "        output.append(item)\n",
    "        \n",
    "    return output\n",
    "\n",
    "\n",
    "## This function gets the parsed response of a query\n",
    "def google_search(query):\n",
    "    response = get_results(query)\n",
    "    return parse_results(response)\n",
    "\n",
    "\n",
    "### Pass the response to wikipedia to get more info\n",
    "def get_wiki_info(artist):\n",
    "    ## Search just by query if wikipedia lik exists then move forward else add wikipedia to the search query to get only wikipedia specific info\n",
    "    google_results = google_search(artist) \n",
    "    for result in google_results:\n",
    "        if 'wikipedia' in result['link']:\n",
    "            wiki_result=wikipedia.summary(result['text'].split('.')[0])\n",
    "            return wiki_result\n",
    "    google_results = google_search(artist+' wikipedia')\n",
    "    for result in google_results:\n",
    "        if 'wikipedia' in result['link']:\n",
    "            wiki_result=wikipedia.summary(result['text'].split('.')[0])\n",
    "            return wiki_result\n",
    "        \n",
    "            "
   ]
  },
  {
   "cell_type": "code",
   "execution_count": 81,
   "id": "2b75d6ac-ac3f-49f6-8043-892a5daee58a",
   "metadata": {},
   "outputs": [
    {
     "data": {
      "text/plain": [
       "\"Guns N' Roses is an American hard rock band from Los Angeles, California. Formed in 1985, the group originally consisted of vocalist Axl Rose, lead guitarist Tracii Guns, rhythm guitarist Izzy Stradlin, bassist Ole Beich and drummer Rob Gardner. The band has been through many lineup changes and currently includes Rose (a constant member), bassist Duff McKagan (from 1985 to 1997, and since 2016), lead guitarist Slash (from 1985 to 1996, and since 2016), keyboardist Dizzy Reed (since 1990), rhythm guitarist Richard Fortus (since 2002), drummer Frank Ferrer (since 2006) and keyboardist Melissa Reese (since 2016).\""
      ]
     },
     "execution_count": 81,
     "metadata": {},
     "output_type": "execute_result"
    }
   ],
   "source": [
    "get_wiki_info('guns n roses')"
   ]
  },
  {
   "cell_type": "code",
   "execution_count": 82,
   "id": "95428338-f89b-4c2e-ac4e-27c10bdb9408",
   "metadata": {},
   "outputs": [
    {
     "data": {
      "text/plain": [
       "'Jay Shetty (born 6 September 1987) is an English author and life coach. As the host of the podcast On Purpose, his guests have included Alicia Keys, Khloe Kardashian, and Kobe Bryant, resulting in over 300 million downloads. He has appeared on The Ellen DeGeneres Show,, CBS Mornings, The Daily Show with Trevor Noah and Today to discuss mental health and life purpose.'"
      ]
     },
     "execution_count": 82,
     "metadata": {},
     "output_type": "execute_result"
    }
   ],
   "source": [
    "get_wiki_info('Jay Shetty')"
   ]
  },
  {
   "cell_type": "code",
   "execution_count": 83,
   "id": "3154d318-4784-4692-8677-dff91684be6a",
   "metadata": {},
   "outputs": [
    {
     "data": {
      "text/plain": [
       "\"Kidz Bop is an American children's music group composed like a music brand that produces family-friendly bowlderized cover versions of pop songs and related media. Kidz Bop releases compilation albums that feature children covering clean versions of contemporary pop songs that chart high on the Billboard Hot 100 and/or receive heavy airplay from contemporary hit radio stations several months ahead of each album's release. Kidz Bop releases censored and substitute profane lyrics, however, critics have commented that this doesn't necessarily remove the adult themes from the music.\\nThe concept was developed by Razor & Tie co-founders Cliff Chenfeld and Craig Balsam and released its first entry on October 9, 2001. Since its debut, Kidz Bop has sold over 21 million albums and has generated over 4.5 billion streams. Kidz Bop has expanded to include merchandise, music videos, a live touring division, and seeking talent search competitions.\""
      ]
     },
     "execution_count": 83,
     "metadata": {},
     "output_type": "execute_result"
    }
   ],
   "source": [
    "get_wiki_info('kidz bop never stop live tour')"
   ]
  },
  {
   "cell_type": "code",
   "execution_count": null,
   "id": "a122d154-a6b9-4739-b53f-159d8fd1a322",
   "metadata": {},
   "outputs": [],
   "source": []
  }
 ],
 "metadata": {
  "kernelspec": {
   "display_name": "Python 3.10 (tensorflow)",
   "language": "python",
   "name": "tensorflow"
  },
  "language_info": {
   "codemirror_mode": {
    "name": "ipython",
    "version": 3
   },
   "file_extension": ".py",
   "mimetype": "text/x-python",
   "name": "python",
   "nbconvert_exporter": "python",
   "pygments_lexer": "ipython3",
   "version": "3.9.13"
  }
 },
 "nbformat": 4,
 "nbformat_minor": 5
}
